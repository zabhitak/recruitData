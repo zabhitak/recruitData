{
 "cells": [
  {
   "cell_type": "code",
   "execution_count": 223,
   "source": [
    "#Import Libraries.\r\n",
    "import numpy as np\r\n",
    "import pandas as pd"
   ],
   "outputs": [],
   "metadata": {}
  },
  {
   "cell_type": "code",
   "execution_count": 224,
   "source": [
    "#Reading excel file.\r\n",
    "df=pd.read_excel('candidate_data2.xlsx')\r\n",
    "df.head()"
   ],
   "outputs": [
    {
     "output_type": "execute_result",
     "data": {
      "text/html": [
       "<div>\n",
       "<style scoped>\n",
       "    .dataframe tbody tr th:only-of-type {\n",
       "        vertical-align: middle;\n",
       "    }\n",
       "\n",
       "    .dataframe tbody tr th {\n",
       "        vertical-align: top;\n",
       "    }\n",
       "\n",
       "    .dataframe thead th {\n",
       "        text-align: right;\n",
       "    }\n",
       "</style>\n",
       "<table border=\"1\" class=\"dataframe\">\n",
       "  <thead>\n",
       "    <tr style=\"text-align: right;\">\n",
       "      <th></th>\n",
       "      <th>CandidateName</th>\n",
       "      <th>Qualification</th>\n",
       "      <th>QualLevel</th>\n",
       "      <th>GPA</th>\n",
       "      <th>CurrentEmployer</th>\n",
       "      <th>CurrentCTC</th>\n",
       "      <th>CurrentExperience</th>\n",
       "      <th>ExpectedCTC</th>\n",
       "      <th>RoleId</th>\n",
       "      <th>SourceId</th>\n",
       "      <th>EmailId</th>\n",
       "      <th>LastStage</th>\n",
       "      <th>EntryDate</th>\n",
       "    </tr>\n",
       "  </thead>\n",
       "  <tbody>\n",
       "    <tr>\n",
       "      <th>0</th>\n",
       "      <td>Jon Yang</td>\n",
       "      <td>MCA/ME</td>\n",
       "      <td>4</td>\n",
       "      <td>6.2</td>\n",
       "      <td>L&amp;T Infotech</td>\n",
       "      <td>3.14</td>\n",
       "      <td>2.37</td>\n",
       "      <td>4.3</td>\n",
       "      <td>R1</td>\n",
       "      <td>Shine</td>\n",
       "      <td>jon24@gmail.com</td>\n",
       "      <td>S8</td>\n",
       "      <td>2016-04-10</td>\n",
       "    </tr>\n",
       "    <tr>\n",
       "      <th>1</th>\n",
       "      <td>Eugene Huang</td>\n",
       "      <td>MCA/ME</td>\n",
       "      <td>4</td>\n",
       "      <td>7.2</td>\n",
       "      <td>AGC Networks</td>\n",
       "      <td>4.54</td>\n",
       "      <td>6.10</td>\n",
       "      <td>6.4</td>\n",
       "      <td>R1</td>\n",
       "      <td>Naukri</td>\n",
       "      <td>eugene10@gmail.com</td>\n",
       "      <td>S5</td>\n",
       "      <td>2016-04-12</td>\n",
       "    </tr>\n",
       "    <tr>\n",
       "      <th>2</th>\n",
       "      <td>Ruben Torres</td>\n",
       "      <td>MCA/ME</td>\n",
       "      <td>4</td>\n",
       "      <td>5.8</td>\n",
       "      <td>Mindtree</td>\n",
       "      <td>3.17</td>\n",
       "      <td>2.45</td>\n",
       "      <td>4.1</td>\n",
       "      <td>R1</td>\n",
       "      <td>Referral</td>\n",
       "      <td>ruben35@gmail.com</td>\n",
       "      <td>S3</td>\n",
       "      <td>2016-04-13</td>\n",
       "    </tr>\n",
       "    <tr>\n",
       "      <th>3</th>\n",
       "      <td>Christy Zhu</td>\n",
       "      <td>MCA/ME</td>\n",
       "      <td>4</td>\n",
       "      <td>6.5</td>\n",
       "      <td>Cybage</td>\n",
       "      <td>5.13</td>\n",
       "      <td>7.68</td>\n",
       "      <td>7.0</td>\n",
       "      <td>R1</td>\n",
       "      <td>Shine</td>\n",
       "      <td>christy12@gmail.com</td>\n",
       "      <td>S3</td>\n",
       "      <td>2016-04-14</td>\n",
       "    </tr>\n",
       "    <tr>\n",
       "      <th>4</th>\n",
       "      <td>Elizabeth Johnson</td>\n",
       "      <td>MCA/ME</td>\n",
       "      <td>4</td>\n",
       "      <td>4.3</td>\n",
       "      <td>Sphere Global</td>\n",
       "      <td>9.47</td>\n",
       "      <td>4.52</td>\n",
       "      <td>17.3</td>\n",
       "      <td>R3</td>\n",
       "      <td>Shine</td>\n",
       "      <td>elizabeth5@gmail.com</td>\n",
       "      <td>S2</td>\n",
       "      <td>2016-04-14</td>\n",
       "    </tr>\n",
       "  </tbody>\n",
       "</table>\n",
       "</div>"
      ],
      "text/plain": [
       "       CandidateName Qualification  QualLevel  GPA CurrentEmployer  \\\n",
       "0           Jon Yang        MCA/ME          4  6.2    L&T Infotech   \n",
       "1       Eugene Huang        MCA/ME          4  7.2    AGC Networks   \n",
       "2       Ruben Torres        MCA/ME          4  5.8        Mindtree   \n",
       "3        Christy Zhu        MCA/ME          4  6.5          Cybage   \n",
       "4  Elizabeth Johnson        MCA/ME          4  4.3   Sphere Global   \n",
       "\n",
       "   CurrentCTC  CurrentExperience  ExpectedCTC RoleId  SourceId  \\\n",
       "0        3.14               2.37          4.3     R1     Shine   \n",
       "1        4.54               6.10          6.4     R1    Naukri   \n",
       "2        3.17               2.45          4.1     R1  Referral   \n",
       "3        5.13               7.68          7.0     R1     Shine   \n",
       "4        9.47               4.52         17.3     R3     Shine   \n",
       "\n",
       "                EmailId LastStage  EntryDate  \n",
       "0       jon24@gmail.com        S8 2016-04-10  \n",
       "1    eugene10@gmail.com        S5 2016-04-12  \n",
       "2     ruben35@gmail.com        S3 2016-04-13  \n",
       "3   christy12@gmail.com        S3 2016-04-14  \n",
       "4  elizabeth5@gmail.com        S2 2016-04-14  "
      ]
     },
     "metadata": {},
     "execution_count": 224
    }
   ],
   "metadata": {}
  },
  {
   "cell_type": "code",
   "execution_count": 225,
   "source": [
    "#Renaming GPA to CGPA\r\n",
    "df.rename(columns = {'GPA':'CGPA'}, inplace = True) \r\n",
    "df.head()"
   ],
   "outputs": [
    {
     "output_type": "execute_result",
     "data": {
      "text/html": [
       "<div>\n",
       "<style scoped>\n",
       "    .dataframe tbody tr th:only-of-type {\n",
       "        vertical-align: middle;\n",
       "    }\n",
       "\n",
       "    .dataframe tbody tr th {\n",
       "        vertical-align: top;\n",
       "    }\n",
       "\n",
       "    .dataframe thead th {\n",
       "        text-align: right;\n",
       "    }\n",
       "</style>\n",
       "<table border=\"1\" class=\"dataframe\">\n",
       "  <thead>\n",
       "    <tr style=\"text-align: right;\">\n",
       "      <th></th>\n",
       "      <th>CandidateName</th>\n",
       "      <th>Qualification</th>\n",
       "      <th>QualLevel</th>\n",
       "      <th>CGPA</th>\n",
       "      <th>CurrentEmployer</th>\n",
       "      <th>CurrentCTC</th>\n",
       "      <th>CurrentExperience</th>\n",
       "      <th>ExpectedCTC</th>\n",
       "      <th>RoleId</th>\n",
       "      <th>SourceId</th>\n",
       "      <th>EmailId</th>\n",
       "      <th>LastStage</th>\n",
       "      <th>EntryDate</th>\n",
       "    </tr>\n",
       "  </thead>\n",
       "  <tbody>\n",
       "    <tr>\n",
       "      <th>0</th>\n",
       "      <td>Jon Yang</td>\n",
       "      <td>MCA/ME</td>\n",
       "      <td>4</td>\n",
       "      <td>6.2</td>\n",
       "      <td>L&amp;T Infotech</td>\n",
       "      <td>3.14</td>\n",
       "      <td>2.37</td>\n",
       "      <td>4.3</td>\n",
       "      <td>R1</td>\n",
       "      <td>Shine</td>\n",
       "      <td>jon24@gmail.com</td>\n",
       "      <td>S8</td>\n",
       "      <td>2016-04-10</td>\n",
       "    </tr>\n",
       "    <tr>\n",
       "      <th>1</th>\n",
       "      <td>Eugene Huang</td>\n",
       "      <td>MCA/ME</td>\n",
       "      <td>4</td>\n",
       "      <td>7.2</td>\n",
       "      <td>AGC Networks</td>\n",
       "      <td>4.54</td>\n",
       "      <td>6.10</td>\n",
       "      <td>6.4</td>\n",
       "      <td>R1</td>\n",
       "      <td>Naukri</td>\n",
       "      <td>eugene10@gmail.com</td>\n",
       "      <td>S5</td>\n",
       "      <td>2016-04-12</td>\n",
       "    </tr>\n",
       "    <tr>\n",
       "      <th>2</th>\n",
       "      <td>Ruben Torres</td>\n",
       "      <td>MCA/ME</td>\n",
       "      <td>4</td>\n",
       "      <td>5.8</td>\n",
       "      <td>Mindtree</td>\n",
       "      <td>3.17</td>\n",
       "      <td>2.45</td>\n",
       "      <td>4.1</td>\n",
       "      <td>R1</td>\n",
       "      <td>Referral</td>\n",
       "      <td>ruben35@gmail.com</td>\n",
       "      <td>S3</td>\n",
       "      <td>2016-04-13</td>\n",
       "    </tr>\n",
       "    <tr>\n",
       "      <th>3</th>\n",
       "      <td>Christy Zhu</td>\n",
       "      <td>MCA/ME</td>\n",
       "      <td>4</td>\n",
       "      <td>6.5</td>\n",
       "      <td>Cybage</td>\n",
       "      <td>5.13</td>\n",
       "      <td>7.68</td>\n",
       "      <td>7.0</td>\n",
       "      <td>R1</td>\n",
       "      <td>Shine</td>\n",
       "      <td>christy12@gmail.com</td>\n",
       "      <td>S3</td>\n",
       "      <td>2016-04-14</td>\n",
       "    </tr>\n",
       "    <tr>\n",
       "      <th>4</th>\n",
       "      <td>Elizabeth Johnson</td>\n",
       "      <td>MCA/ME</td>\n",
       "      <td>4</td>\n",
       "      <td>4.3</td>\n",
       "      <td>Sphere Global</td>\n",
       "      <td>9.47</td>\n",
       "      <td>4.52</td>\n",
       "      <td>17.3</td>\n",
       "      <td>R3</td>\n",
       "      <td>Shine</td>\n",
       "      <td>elizabeth5@gmail.com</td>\n",
       "      <td>S2</td>\n",
       "      <td>2016-04-14</td>\n",
       "    </tr>\n",
       "  </tbody>\n",
       "</table>\n",
       "</div>"
      ],
      "text/plain": [
       "       CandidateName Qualification  QualLevel  CGPA CurrentEmployer  \\\n",
       "0           Jon Yang        MCA/ME          4   6.2    L&T Infotech   \n",
       "1       Eugene Huang        MCA/ME          4   7.2    AGC Networks   \n",
       "2       Ruben Torres        MCA/ME          4   5.8        Mindtree   \n",
       "3        Christy Zhu        MCA/ME          4   6.5          Cybage   \n",
       "4  Elizabeth Johnson        MCA/ME          4   4.3   Sphere Global   \n",
       "\n",
       "   CurrentCTC  CurrentExperience  ExpectedCTC RoleId  SourceId  \\\n",
       "0        3.14               2.37          4.3     R1     Shine   \n",
       "1        4.54               6.10          6.4     R1    Naukri   \n",
       "2        3.17               2.45          4.1     R1  Referral   \n",
       "3        5.13               7.68          7.0     R1     Shine   \n",
       "4        9.47               4.52         17.3     R3     Shine   \n",
       "\n",
       "                EmailId LastStage  EntryDate  \n",
       "0       jon24@gmail.com        S8 2016-04-10  \n",
       "1    eugene10@gmail.com        S5 2016-04-12  \n",
       "2     ruben35@gmail.com        S3 2016-04-13  \n",
       "3   christy12@gmail.com        S3 2016-04-14  \n",
       "4  elizabeth5@gmail.com        S2 2016-04-14  "
      ]
     },
     "metadata": {},
     "execution_count": 225
    }
   ],
   "metadata": {}
  },
  {
   "cell_type": "markdown",
   "source": [
    "## Checking null values"
   ],
   "metadata": {}
  },
  {
   "cell_type": "code",
   "execution_count": 226,
   "source": [
    "df.isnull().sum()"
   ],
   "outputs": [
    {
     "output_type": "execute_result",
     "data": {
      "text/plain": [
       "CandidateName        0\n",
       "Qualification        0\n",
       "QualLevel            0\n",
       "CGPA                 0\n",
       "CurrentEmployer      0\n",
       "CurrentCTC           0\n",
       "CurrentExperience    0\n",
       "ExpectedCTC          0\n",
       "RoleId               0\n",
       "SourceId             0\n",
       "EmailId              0\n",
       "LastStage            0\n",
       "EntryDate            0\n",
       "dtype: int64"
      ]
     },
     "metadata": {},
     "execution_count": 226
    }
   ],
   "metadata": {}
  },
  {
   "cell_type": "code",
   "execution_count": 227,
   "source": [
    "df.shape"
   ],
   "outputs": [
    {
     "output_type": "execute_result",
     "data": {
      "text/plain": [
       "(1000, 13)"
      ]
     },
     "metadata": {},
     "execution_count": 227
    }
   ],
   "metadata": {}
  },
  {
   "cell_type": "code",
   "execution_count": 228,
   "source": [
    "df.describe()"
   ],
   "outputs": [
    {
     "output_type": "execute_result",
     "data": {
      "text/html": [
       "<div>\n",
       "<style scoped>\n",
       "    .dataframe tbody tr th:only-of-type {\n",
       "        vertical-align: middle;\n",
       "    }\n",
       "\n",
       "    .dataframe tbody tr th {\n",
       "        vertical-align: top;\n",
       "    }\n",
       "\n",
       "    .dataframe thead th {\n",
       "        text-align: right;\n",
       "    }\n",
       "</style>\n",
       "<table border=\"1\" class=\"dataframe\">\n",
       "  <thead>\n",
       "    <tr style=\"text-align: right;\">\n",
       "      <th></th>\n",
       "      <th>QualLevel</th>\n",
       "      <th>CGPA</th>\n",
       "      <th>CurrentCTC</th>\n",
       "      <th>CurrentExperience</th>\n",
       "      <th>ExpectedCTC</th>\n",
       "    </tr>\n",
       "  </thead>\n",
       "  <tbody>\n",
       "    <tr>\n",
       "      <th>count</th>\n",
       "      <td>1000.000000</td>\n",
       "      <td>1000.000000</td>\n",
       "      <td>1000.000000</td>\n",
       "      <td>1000.000000</td>\n",
       "      <td>1000.000000</td>\n",
       "    </tr>\n",
       "    <tr>\n",
       "      <th>mean</th>\n",
       "      <td>3.627000</td>\n",
       "      <td>6.217100</td>\n",
       "      <td>5.717720</td>\n",
       "      <td>4.869180</td>\n",
       "      <td>9.576200</td>\n",
       "    </tr>\n",
       "    <tr>\n",
       "      <th>std</th>\n",
       "      <td>1.165001</td>\n",
       "      <td>1.171285</td>\n",
       "      <td>4.049182</td>\n",
       "      <td>2.839447</td>\n",
       "      <td>9.474844</td>\n",
       "    </tr>\n",
       "    <tr>\n",
       "      <th>min</th>\n",
       "      <td>1.000000</td>\n",
       "      <td>3.500000</td>\n",
       "      <td>1.210000</td>\n",
       "      <td>0.030000</td>\n",
       "      <td>1.600000</td>\n",
       "    </tr>\n",
       "    <tr>\n",
       "      <th>25%</th>\n",
       "      <td>3.000000</td>\n",
       "      <td>5.400000</td>\n",
       "      <td>3.280000</td>\n",
       "      <td>2.417500</td>\n",
       "      <td>4.575000</td>\n",
       "    </tr>\n",
       "    <tr>\n",
       "      <th>50%</th>\n",
       "      <td>4.000000</td>\n",
       "      <td>6.300000</td>\n",
       "      <td>4.485000</td>\n",
       "      <td>4.770000</td>\n",
       "      <td>6.200000</td>\n",
       "    </tr>\n",
       "    <tr>\n",
       "      <th>75%</th>\n",
       "      <td>5.000000</td>\n",
       "      <td>7.100000</td>\n",
       "      <td>6.480000</td>\n",
       "      <td>7.275000</td>\n",
       "      <td>9.400000</td>\n",
       "    </tr>\n",
       "    <tr>\n",
       "      <th>max</th>\n",
       "      <td>5.000000</td>\n",
       "      <td>9.000000</td>\n",
       "      <td>27.580000</td>\n",
       "      <td>9.990000</td>\n",
       "      <td>65.100000</td>\n",
       "    </tr>\n",
       "  </tbody>\n",
       "</table>\n",
       "</div>"
      ],
      "text/plain": [
       "         QualLevel         CGPA   CurrentCTC  CurrentExperience  ExpectedCTC\n",
       "count  1000.000000  1000.000000  1000.000000        1000.000000  1000.000000\n",
       "mean      3.627000     6.217100     5.717720           4.869180     9.576200\n",
       "std       1.165001     1.171285     4.049182           2.839447     9.474844\n",
       "min       1.000000     3.500000     1.210000           0.030000     1.600000\n",
       "25%       3.000000     5.400000     3.280000           2.417500     4.575000\n",
       "50%       4.000000     6.300000     4.485000           4.770000     6.200000\n",
       "75%       5.000000     7.100000     6.480000           7.275000     9.400000\n",
       "max       5.000000     9.000000    27.580000           9.990000    65.100000"
      ]
     },
     "metadata": {},
     "execution_count": 228
    }
   ],
   "metadata": {}
  },
  {
   "cell_type": "code",
   "execution_count": 229,
   "source": [
    "df.drop(['CandidateName','EmailId','EntryDate','RoleId','CurrentEmployer'],axis=1,inplace=True)\r\n",
    "df.head()"
   ],
   "outputs": [
    {
     "output_type": "execute_result",
     "data": {
      "text/html": [
       "<div>\n",
       "<style scoped>\n",
       "    .dataframe tbody tr th:only-of-type {\n",
       "        vertical-align: middle;\n",
       "    }\n",
       "\n",
       "    .dataframe tbody tr th {\n",
       "        vertical-align: top;\n",
       "    }\n",
       "\n",
       "    .dataframe thead th {\n",
       "        text-align: right;\n",
       "    }\n",
       "</style>\n",
       "<table border=\"1\" class=\"dataframe\">\n",
       "  <thead>\n",
       "    <tr style=\"text-align: right;\">\n",
       "      <th></th>\n",
       "      <th>Qualification</th>\n",
       "      <th>QualLevel</th>\n",
       "      <th>CGPA</th>\n",
       "      <th>CurrentCTC</th>\n",
       "      <th>CurrentExperience</th>\n",
       "      <th>ExpectedCTC</th>\n",
       "      <th>SourceId</th>\n",
       "      <th>LastStage</th>\n",
       "    </tr>\n",
       "  </thead>\n",
       "  <tbody>\n",
       "    <tr>\n",
       "      <th>0</th>\n",
       "      <td>MCA/ME</td>\n",
       "      <td>4</td>\n",
       "      <td>6.2</td>\n",
       "      <td>3.14</td>\n",
       "      <td>2.37</td>\n",
       "      <td>4.3</td>\n",
       "      <td>Shine</td>\n",
       "      <td>S8</td>\n",
       "    </tr>\n",
       "    <tr>\n",
       "      <th>1</th>\n",
       "      <td>MCA/ME</td>\n",
       "      <td>4</td>\n",
       "      <td>7.2</td>\n",
       "      <td>4.54</td>\n",
       "      <td>6.10</td>\n",
       "      <td>6.4</td>\n",
       "      <td>Naukri</td>\n",
       "      <td>S5</td>\n",
       "    </tr>\n",
       "    <tr>\n",
       "      <th>2</th>\n",
       "      <td>MCA/ME</td>\n",
       "      <td>4</td>\n",
       "      <td>5.8</td>\n",
       "      <td>3.17</td>\n",
       "      <td>2.45</td>\n",
       "      <td>4.1</td>\n",
       "      <td>Referral</td>\n",
       "      <td>S3</td>\n",
       "    </tr>\n",
       "    <tr>\n",
       "      <th>3</th>\n",
       "      <td>MCA/ME</td>\n",
       "      <td>4</td>\n",
       "      <td>6.5</td>\n",
       "      <td>5.13</td>\n",
       "      <td>7.68</td>\n",
       "      <td>7.0</td>\n",
       "      <td>Shine</td>\n",
       "      <td>S3</td>\n",
       "    </tr>\n",
       "    <tr>\n",
       "      <th>4</th>\n",
       "      <td>MCA/ME</td>\n",
       "      <td>4</td>\n",
       "      <td>4.3</td>\n",
       "      <td>9.47</td>\n",
       "      <td>4.52</td>\n",
       "      <td>17.3</td>\n",
       "      <td>Shine</td>\n",
       "      <td>S2</td>\n",
       "    </tr>\n",
       "  </tbody>\n",
       "</table>\n",
       "</div>"
      ],
      "text/plain": [
       "  Qualification  QualLevel  CGPA  CurrentCTC  CurrentExperience  ExpectedCTC  \\\n",
       "0        MCA/ME          4   6.2        3.14               2.37          4.3   \n",
       "1        MCA/ME          4   7.2        4.54               6.10          6.4   \n",
       "2        MCA/ME          4   5.8        3.17               2.45          4.1   \n",
       "3        MCA/ME          4   6.5        5.13               7.68          7.0   \n",
       "4        MCA/ME          4   4.3        9.47               4.52         17.3   \n",
       "\n",
       "   SourceId LastStage  \n",
       "0     Shine        S8  \n",
       "1    Naukri        S5  \n",
       "2  Referral        S3  \n",
       "3     Shine        S3  \n",
       "4     Shine        S2  "
      ]
     },
     "metadata": {},
     "execution_count": 229
    }
   ],
   "metadata": {}
  },
  {
   "cell_type": "code",
   "execution_count": 230,
   "source": [
    "#Checking unique values in \"Qualification column\"\r\n",
    "df.Qualification.unique()"
   ],
   "outputs": [
    {
     "output_type": "execute_result",
     "data": {
      "text/plain": [
       "array(['MCA/ME', 'MS/MTech', 'BSc/BCS', 'Other', 'BE'], dtype=object)"
      ]
     },
     "metadata": {},
     "execution_count": 230
    }
   ],
   "metadata": {}
  },
  {
   "cell_type": "code",
   "execution_count": 231,
   "source": [
    "df.drop(['Qualification'],axis=1,inplace=True)\r\n",
    "df.head()"
   ],
   "outputs": [
    {
     "output_type": "execute_result",
     "data": {
      "text/html": [
       "<div>\n",
       "<style scoped>\n",
       "    .dataframe tbody tr th:only-of-type {\n",
       "        vertical-align: middle;\n",
       "    }\n",
       "\n",
       "    .dataframe tbody tr th {\n",
       "        vertical-align: top;\n",
       "    }\n",
       "\n",
       "    .dataframe thead th {\n",
       "        text-align: right;\n",
       "    }\n",
       "</style>\n",
       "<table border=\"1\" class=\"dataframe\">\n",
       "  <thead>\n",
       "    <tr style=\"text-align: right;\">\n",
       "      <th></th>\n",
       "      <th>QualLevel</th>\n",
       "      <th>CGPA</th>\n",
       "      <th>CurrentCTC</th>\n",
       "      <th>CurrentExperience</th>\n",
       "      <th>ExpectedCTC</th>\n",
       "      <th>SourceId</th>\n",
       "      <th>LastStage</th>\n",
       "    </tr>\n",
       "  </thead>\n",
       "  <tbody>\n",
       "    <tr>\n",
       "      <th>0</th>\n",
       "      <td>4</td>\n",
       "      <td>6.2</td>\n",
       "      <td>3.14</td>\n",
       "      <td>2.37</td>\n",
       "      <td>4.3</td>\n",
       "      <td>Shine</td>\n",
       "      <td>S8</td>\n",
       "    </tr>\n",
       "    <tr>\n",
       "      <th>1</th>\n",
       "      <td>4</td>\n",
       "      <td>7.2</td>\n",
       "      <td>4.54</td>\n",
       "      <td>6.10</td>\n",
       "      <td>6.4</td>\n",
       "      <td>Naukri</td>\n",
       "      <td>S5</td>\n",
       "    </tr>\n",
       "    <tr>\n",
       "      <th>2</th>\n",
       "      <td>4</td>\n",
       "      <td>5.8</td>\n",
       "      <td>3.17</td>\n",
       "      <td>2.45</td>\n",
       "      <td>4.1</td>\n",
       "      <td>Referral</td>\n",
       "      <td>S3</td>\n",
       "    </tr>\n",
       "    <tr>\n",
       "      <th>3</th>\n",
       "      <td>4</td>\n",
       "      <td>6.5</td>\n",
       "      <td>5.13</td>\n",
       "      <td>7.68</td>\n",
       "      <td>7.0</td>\n",
       "      <td>Shine</td>\n",
       "      <td>S3</td>\n",
       "    </tr>\n",
       "    <tr>\n",
       "      <th>4</th>\n",
       "      <td>4</td>\n",
       "      <td>4.3</td>\n",
       "      <td>9.47</td>\n",
       "      <td>4.52</td>\n",
       "      <td>17.3</td>\n",
       "      <td>Shine</td>\n",
       "      <td>S2</td>\n",
       "    </tr>\n",
       "  </tbody>\n",
       "</table>\n",
       "</div>"
      ],
      "text/plain": [
       "   QualLevel  CGPA  CurrentCTC  CurrentExperience  ExpectedCTC  SourceId  \\\n",
       "0          4   6.2        3.14               2.37          4.3     Shine   \n",
       "1          4   7.2        4.54               6.10          6.4    Naukri   \n",
       "2          4   5.8        3.17               2.45          4.1  Referral   \n",
       "3          4   6.5        5.13               7.68          7.0     Shine   \n",
       "4          4   4.3        9.47               4.52         17.3     Shine   \n",
       "\n",
       "  LastStage  \n",
       "0        S8  \n",
       "1        S5  \n",
       "2        S3  \n",
       "3        S3  \n",
       "4        S2  "
      ]
     },
     "metadata": {},
     "execution_count": 231
    }
   ],
   "metadata": {}
  },
  {
   "cell_type": "code",
   "execution_count": 232,
   "source": [
    "df.SourceId.unique()"
   ],
   "outputs": [
    {
     "output_type": "execute_result",
     "data": {
      "text/plain": [
       "array(['Shine', 'Naukri', 'Referral', 'Consultant1', 'LinkedIn', 'Indeed',\n",
       "       'Consultant2'], dtype=object)"
      ]
     },
     "metadata": {},
     "execution_count": 232
    }
   ],
   "metadata": {}
  },
  {
   "cell_type": "code",
   "execution_count": 233,
   "source": [
    "#Checking total count of each variable in \"SourceId\"\r\n",
    "source_id = df['SourceId'].value_counts(ascending=False)\r\n",
    "source_id"
   ],
   "outputs": [
    {
     "output_type": "execute_result",
     "data": {
      "text/plain": [
       "Shine          484\n",
       "Naukri         268\n",
       "Referral       107\n",
       "Indeed          85\n",
       "LinkedIn        24\n",
       "Consultant1     20\n",
       "Consultant2     12\n",
       "Name: SourceId, dtype: int64"
      ]
     },
     "metadata": {},
     "execution_count": 233
    }
   ],
   "metadata": {}
  },
  {
   "cell_type": "code",
   "execution_count": 234,
   "source": [
    "#Plotting \"SourceId\" to see distribution of data in it.\r\n",
    "import matplotlib.pyplot as plt\r\n",
    "objects = ('Shine', 'Naukri', 'Referrral', 'Consultant1', 'LinkedIn', 'Indeed')\r\n",
    "y_pos = np.arange(len(objects))\r\n",
    "performance = [10,8,6,4,2,1]\r\n",
    "plt.bar(y_pos, performance, align='center', alpha=0.5)\r\n",
    "plt.xticks(y_pos, objects)\r\n",
    "plt.ylabel('Number of sources')\r\n",
    "plt.title('SourceId visuals')\r\n",
    "plt.show()"
   ],
   "outputs": [
    {
     "output_type": "display_data",
     "data": {
      "image/png": "[encoded data removed]",
      "text/plain": [
       "<Figure size 432x288 with 1 Axes>"
      ]
     },
     "metadata": {
      "needs_background": "light"
     }
    }
   ],
   "metadata": {}
  },
  {
   "cell_type": "code",
   "execution_count": 235,
   "source": [
    "#Checking Datatype.\r\n",
    "df.dtypes"
   ],
   "outputs": [
    {
     "output_type": "execute_result",
     "data": {
      "text/plain": [
       "QualLevel              int64\n",
       "CGPA                 float64\n",
       "CurrentCTC           float64\n",
       "CurrentExperience    float64\n",
       "ExpectedCTC          float64\n",
       "SourceId              object\n",
       "LastStage             object\n",
       "dtype: object"
      ]
     },
     "metadata": {},
     "execution_count": 235
    }
   ],
   "metadata": {}
  },
  {
   "cell_type": "code",
   "execution_count": 236,
   "source": [
    "df.LastStage.unique()"
   ],
   "outputs": [
    {
     "output_type": "execute_result",
     "data": {
      "text/plain": [
       "array(['S8', 'S5', 'S3', 'S2', 'S4', 'S7', 'S1'], dtype=object)"
      ]
     },
     "metadata": {},
     "execution_count": 236
    }
   ],
   "metadata": {}
  },
  {
   "cell_type": "markdown",
   "source": [
    "## Mapping \"LastStage\" column"
   ],
   "metadata": {}
  },
  {
   "cell_type": "code",
   "execution_count": 237,
   "source": [
    "df.LastStage = df.LastStage.map( {'S1':1 , 'S2':1, 'S3':1 , 'S4':2 , 'S5':2 , 'S6':2 , 'S7':3 , 'S8':3} )\r\n",
    "df.head(10)"
   ],
   "outputs": [
    {
     "output_type": "execute_result",
     "data": {
      "text/html": [
       "<div>\n",
       "<style scoped>\n",
       "    .dataframe tbody tr th:only-of-type {\n",
       "        vertical-align: middle;\n",
       "    }\n",
       "\n",
       "    .dataframe tbody tr th {\n",
       "        vertical-align: top;\n",
       "    }\n",
       "\n",
       "    .dataframe thead th {\n",
       "        text-align: right;\n",
       "    }\n",
       "</style>\n",
       "<table border=\"1\" class=\"dataframe\">\n",
       "  <thead>\n",
       "    <tr style=\"text-align: right;\">\n",
       "      <th></th>\n",
       "      <th>QualLevel</th>\n",
       "      <th>CGPA</th>\n",
       "      <th>CurrentCTC</th>\n",
       "      <th>CurrentExperience</th>\n",
       "      <th>ExpectedCTC</th>\n",
       "      <th>SourceId</th>\n",
       "      <th>LastStage</th>\n",
       "    </tr>\n",
       "  </thead>\n",
       "  <tbody>\n",
       "    <tr>\n",
       "      <th>0</th>\n",
       "      <td>4</td>\n",
       "      <td>6.2</td>\n",
       "      <td>3.14</td>\n",
       "      <td>2.37</td>\n",
       "      <td>4.3</td>\n",
       "      <td>Shine</td>\n",
       "      <td>3</td>\n",
       "    </tr>\n",
       "    <tr>\n",
       "      <th>1</th>\n",
       "      <td>4</td>\n",
       "      <td>7.2</td>\n",
       "      <td>4.54</td>\n",
       "      <td>6.10</td>\n",
       "      <td>6.4</td>\n",
       "      <td>Naukri</td>\n",
       "      <td>2</td>\n",
       "    </tr>\n",
       "    <tr>\n",
       "      <th>2</th>\n",
       "      <td>4</td>\n",
       "      <td>5.8</td>\n",
       "      <td>3.17</td>\n",
       "      <td>2.45</td>\n",
       "      <td>4.1</td>\n",
       "      <td>Referral</td>\n",
       "      <td>1</td>\n",
       "    </tr>\n",
       "    <tr>\n",
       "      <th>3</th>\n",
       "      <td>4</td>\n",
       "      <td>6.5</td>\n",
       "      <td>5.13</td>\n",
       "      <td>7.68</td>\n",
       "      <td>7.0</td>\n",
       "      <td>Shine</td>\n",
       "      <td>1</td>\n",
       "    </tr>\n",
       "    <tr>\n",
       "      <th>4</th>\n",
       "      <td>4</td>\n",
       "      <td>4.3</td>\n",
       "      <td>9.47</td>\n",
       "      <td>4.52</td>\n",
       "      <td>17.3</td>\n",
       "      <td>Shine</td>\n",
       "      <td>1</td>\n",
       "    </tr>\n",
       "    <tr>\n",
       "      <th>5</th>\n",
       "      <td>4</td>\n",
       "      <td>6.5</td>\n",
       "      <td>2.61</td>\n",
       "      <td>0.95</td>\n",
       "      <td>3.3</td>\n",
       "      <td>Shine</td>\n",
       "      <td>2</td>\n",
       "    </tr>\n",
       "    <tr>\n",
       "      <th>6</th>\n",
       "      <td>4</td>\n",
       "      <td>8.3</td>\n",
       "      <td>4.46</td>\n",
       "      <td>5.88</td>\n",
       "      <td>6.1</td>\n",
       "      <td>Shine</td>\n",
       "      <td>3</td>\n",
       "    </tr>\n",
       "    <tr>\n",
       "      <th>7</th>\n",
       "      <td>4</td>\n",
       "      <td>7.5</td>\n",
       "      <td>3.57</td>\n",
       "      <td>3.53</td>\n",
       "      <td>4.7</td>\n",
       "      <td>Shine</td>\n",
       "      <td>2</td>\n",
       "    </tr>\n",
       "    <tr>\n",
       "      <th>8</th>\n",
       "      <td>4</td>\n",
       "      <td>5.2</td>\n",
       "      <td>2.57</td>\n",
       "      <td>0.86</td>\n",
       "      <td>4.3</td>\n",
       "      <td>Referral</td>\n",
       "      <td>1</td>\n",
       "    </tr>\n",
       "    <tr>\n",
       "      <th>9</th>\n",
       "      <td>4</td>\n",
       "      <td>4.1</td>\n",
       "      <td>3.50</td>\n",
       "      <td>3.34</td>\n",
       "      <td>5.8</td>\n",
       "      <td>Shine</td>\n",
       "      <td>1</td>\n",
       "    </tr>\n",
       "  </tbody>\n",
       "</table>\n",
       "</div>"
      ],
      "text/plain": [
       "   QualLevel  CGPA  CurrentCTC  CurrentExperience  ExpectedCTC  SourceId  \\\n",
       "0          4   6.2        3.14               2.37          4.3     Shine   \n",
       "1          4   7.2        4.54               6.10          6.4    Naukri   \n",
       "2          4   5.8        3.17               2.45          4.1  Referral   \n",
       "3          4   6.5        5.13               7.68          7.0     Shine   \n",
       "4          4   4.3        9.47               4.52         17.3     Shine   \n",
       "5          4   6.5        2.61               0.95          3.3     Shine   \n",
       "6          4   8.3        4.46               5.88          6.1     Shine   \n",
       "7          4   7.5        3.57               3.53          4.7     Shine   \n",
       "8          4   5.2        2.57               0.86          4.3  Referral   \n",
       "9          4   4.1        3.50               3.34          5.8     Shine   \n",
       "\n",
       "   LastStage  \n",
       "0          3  \n",
       "1          2  \n",
       "2          1  \n",
       "3          1  \n",
       "4          1  \n",
       "5          2  \n",
       "6          3  \n",
       "7          2  \n",
       "8          1  \n",
       "9          1  "
      ]
     },
     "metadata": {},
     "execution_count": 237
    }
   ],
   "metadata": {}
  },
  {
   "cell_type": "markdown",
   "source": [
    "## Mapping \"SourceId\" column"
   ],
   "metadata": {}
  },
  {
   "cell_type": "code",
   "execution_count": 238,
   "source": [
    "df.SourceId = df.SourceId.map( {'LinkedIn':4 , 'Naukri':3, 'Shine':2 , 'Indeed':1 , 'Consultant1':5 , 'Consultant2':5 , 'Referral':6} )\r\n",
    "df.head(10)"
   ],
   "outputs": [
    {
     "output_type": "execute_result",
     "data": {
      "text/html": [
       "<div>\n",
       "<style scoped>\n",
       "    .dataframe tbody tr th:only-of-type {\n",
       "        vertical-align: middle;\n",
       "    }\n",
       "\n",
       "    .dataframe tbody tr th {\n",
       "        vertical-align: top;\n",
       "    }\n",
       "\n",
       "    .dataframe thead th {\n",
       "        text-align: right;\n",
       "    }\n",
       "</style>\n",
       "<table border=\"1\" class=\"dataframe\">\n",
       "  <thead>\n",
       "    <tr style=\"text-align: right;\">\n",
       "      <th></th>\n",
       "      <th>QualLevel</th>\n",
       "      <th>CGPA</th>\n",
       "      <th>CurrentCTC</th>\n",
       "      <th>CurrentExperience</th>\n",
       "      <th>ExpectedCTC</th>\n",
       "      <th>SourceId</th>\n",
       "      <th>LastStage</th>\n",
       "    </tr>\n",
       "  </thead>\n",
       "  <tbody>\n",
       "    <tr>\n",
       "      <th>0</th>\n",
       "      <td>4</td>\n",
       "      <td>6.2</td>\n",
       "      <td>3.14</td>\n",
       "      <td>2.37</td>\n",
       "      <td>4.3</td>\n",
       "      <td>2</td>\n",
       "      <td>3</td>\n",
       "    </tr>\n",
       "    <tr>\n",
       "      <th>1</th>\n",
       "      <td>4</td>\n",
       "      <td>7.2</td>\n",
       "      <td>4.54</td>\n",
       "      <td>6.10</td>\n",
       "      <td>6.4</td>\n",
       "      <td>3</td>\n",
       "      <td>2</td>\n",
       "    </tr>\n",
       "    <tr>\n",
       "      <th>2</th>\n",
       "      <td>4</td>\n",
       "      <td>5.8</td>\n",
       "      <td>3.17</td>\n",
       "      <td>2.45</td>\n",
       "      <td>4.1</td>\n",
       "      <td>6</td>\n",
       "      <td>1</td>\n",
       "    </tr>\n",
       "    <tr>\n",
       "      <th>3</th>\n",
       "      <td>4</td>\n",
       "      <td>6.5</td>\n",
       "      <td>5.13</td>\n",
       "      <td>7.68</td>\n",
       "      <td>7.0</td>\n",
       "      <td>2</td>\n",
       "      <td>1</td>\n",
       "    </tr>\n",
       "    <tr>\n",
       "      <th>4</th>\n",
       "      <td>4</td>\n",
       "      <td>4.3</td>\n",
       "      <td>9.47</td>\n",
       "      <td>4.52</td>\n",
       "      <td>17.3</td>\n",
       "      <td>2</td>\n",
       "      <td>1</td>\n",
       "    </tr>\n",
       "    <tr>\n",
       "      <th>5</th>\n",
       "      <td>4</td>\n",
       "      <td>6.5</td>\n",
       "      <td>2.61</td>\n",
       "      <td>0.95</td>\n",
       "      <td>3.3</td>\n",
       "      <td>2</td>\n",
       "      <td>2</td>\n",
       "    </tr>\n",
       "    <tr>\n",
       "      <th>6</th>\n",
       "      <td>4</td>\n",
       "      <td>8.3</td>\n",
       "      <td>4.46</td>\n",
       "      <td>5.88</td>\n",
       "      <td>6.1</td>\n",
       "      <td>2</td>\n",
       "      <td>3</td>\n",
       "    </tr>\n",
       "    <tr>\n",
       "      <th>7</th>\n",
       "      <td>4</td>\n",
       "      <td>7.5</td>\n",
       "      <td>3.57</td>\n",
       "      <td>3.53</td>\n",
       "      <td>4.7</td>\n",
       "      <td>2</td>\n",
       "      <td>2</td>\n",
       "    </tr>\n",
       "    <tr>\n",
       "      <th>8</th>\n",
       "      <td>4</td>\n",
       "      <td>5.2</td>\n",
       "      <td>2.57</td>\n",
       "      <td>0.86</td>\n",
       "      <td>4.3</td>\n",
       "      <td>6</td>\n",
       "      <td>1</td>\n",
       "    </tr>\n",
       "    <tr>\n",
       "      <th>9</th>\n",
       "      <td>4</td>\n",
       "      <td>4.1</td>\n",
       "      <td>3.50</td>\n",
       "      <td>3.34</td>\n",
       "      <td>5.8</td>\n",
       "      <td>2</td>\n",
       "      <td>1</td>\n",
       "    </tr>\n",
       "  </tbody>\n",
       "</table>\n",
       "</div>"
      ],
      "text/plain": [
       "   QualLevel  CGPA  CurrentCTC  CurrentExperience  ExpectedCTC  SourceId  \\\n",
       "0          4   6.2        3.14               2.37          4.3         2   \n",
       "1          4   7.2        4.54               6.10          6.4         3   \n",
       "2          4   5.8        3.17               2.45          4.1         6   \n",
       "3          4   6.5        5.13               7.68          7.0         2   \n",
       "4          4   4.3        9.47               4.52         17.3         2   \n",
       "5          4   6.5        2.61               0.95          3.3         2   \n",
       "6          4   8.3        4.46               5.88          6.1         2   \n",
       "7          4   7.5        3.57               3.53          4.7         2   \n",
       "8          4   5.2        2.57               0.86          4.3         6   \n",
       "9          4   4.1        3.50               3.34          5.8         2   \n",
       "\n",
       "   LastStage  \n",
       "0          3  \n",
       "1          2  \n",
       "2          1  \n",
       "3          1  \n",
       "4          1  \n",
       "5          2  \n",
       "6          3  \n",
       "7          2  \n",
       "8          1  \n",
       "9          1  "
      ]
     },
     "metadata": {},
     "execution_count": 238
    }
   ],
   "metadata": {}
  },
  {
   "cell_type": "code",
   "execution_count": 239,
   "source": [
    "df.shape"
   ],
   "outputs": [
    {
     "output_type": "execute_result",
     "data": {
      "text/plain": [
       "(1000, 7)"
      ]
     },
     "metadata": {},
     "execution_count": 239
    }
   ],
   "metadata": {}
  },
  {
   "cell_type": "code",
   "execution_count": 240,
   "source": [
    "x =df.drop(['LastStage','CurrentCTC','ExpectedCTC'],axis='columns')\r\n",
    "x.head(10)"
   ],
   "outputs": [
    {
     "output_type": "execute_result",
     "data": {
      "text/html": [
       "<div>\n",
       "<style scoped>\n",
       "    .dataframe tbody tr th:only-of-type {\n",
       "        vertical-align: middle;\n",
       "    }\n",
       "\n",
       "    .dataframe tbody tr th {\n",
       "        vertical-align: top;\n",
       "    }\n",
       "\n",
       "    .dataframe thead th {\n",
       "        text-align: right;\n",
       "    }\n",
       "</style>\n",
       "<table border=\"1\" class=\"dataframe\">\n",
       "  <thead>\n",
       "    <tr style=\"text-align: right;\">\n",
       "      <th></th>\n",
       "      <th>QualLevel</th>\n",
       "      <th>CGPA</th>\n",
       "      <th>CurrentExperience</th>\n",
       "      <th>SourceId</th>\n",
       "    </tr>\n",
       "  </thead>\n",
       "  <tbody>\n",
       "    <tr>\n",
       "      <th>0</th>\n",
       "      <td>4</td>\n",
       "      <td>6.2</td>\n",
       "      <td>2.37</td>\n",
       "      <td>2</td>\n",
       "    </tr>\n",
       "    <tr>\n",
       "      <th>1</th>\n",
       "      <td>4</td>\n",
       "      <td>7.2</td>\n",
       "      <td>6.10</td>\n",
       "      <td>3</td>\n",
       "    </tr>\n",
       "    <tr>\n",
       "      <th>2</th>\n",
       "      <td>4</td>\n",
       "      <td>5.8</td>\n",
       "      <td>2.45</td>\n",
       "      <td>6</td>\n",
       "    </tr>\n",
       "    <tr>\n",
       "      <th>3</th>\n",
       "      <td>4</td>\n",
       "      <td>6.5</td>\n",
       "      <td>7.68</td>\n",
       "      <td>2</td>\n",
       "    </tr>\n",
       "    <tr>\n",
       "      <th>4</th>\n",
       "      <td>4</td>\n",
       "      <td>4.3</td>\n",
       "      <td>4.52</td>\n",
       "      <td>2</td>\n",
       "    </tr>\n",
       "    <tr>\n",
       "      <th>5</th>\n",
       "      <td>4</td>\n",
       "      <td>6.5</td>\n",
       "      <td>0.95</td>\n",
       "      <td>2</td>\n",
       "    </tr>\n",
       "    <tr>\n",
       "      <th>6</th>\n",
       "      <td>4</td>\n",
       "      <td>8.3</td>\n",
       "      <td>5.88</td>\n",
       "      <td>2</td>\n",
       "    </tr>\n",
       "    <tr>\n",
       "      <th>7</th>\n",
       "      <td>4</td>\n",
       "      <td>7.5</td>\n",
       "      <td>3.53</td>\n",
       "      <td>2</td>\n",
       "    </tr>\n",
       "    <tr>\n",
       "      <th>8</th>\n",
       "      <td>4</td>\n",
       "      <td>5.2</td>\n",
       "      <td>0.86</td>\n",
       "      <td>6</td>\n",
       "    </tr>\n",
       "    <tr>\n",
       "      <th>9</th>\n",
       "      <td>4</td>\n",
       "      <td>4.1</td>\n",
       "      <td>3.34</td>\n",
       "      <td>2</td>\n",
       "    </tr>\n",
       "  </tbody>\n",
       "</table>\n",
       "</div>"
      ],
      "text/plain": [
       "   QualLevel  CGPA  CurrentExperience  SourceId\n",
       "0          4   6.2               2.37         2\n",
       "1          4   7.2               6.10         3\n",
       "2          4   5.8               2.45         6\n",
       "3          4   6.5               7.68         2\n",
       "4          4   4.3               4.52         2\n",
       "5          4   6.5               0.95         2\n",
       "6          4   8.3               5.88         2\n",
       "7          4   7.5               3.53         2\n",
       "8          4   5.2               0.86         6\n",
       "9          4   4.1               3.34         2"
      ]
     },
     "metadata": {},
     "execution_count": 240
    }
   ],
   "metadata": {}
  },
  {
   "cell_type": "code",
   "execution_count": 241,
   "source": [
    "y=df.LastStage\r\n",
    "y.head()"
   ],
   "outputs": [
    {
     "output_type": "execute_result",
     "data": {
      "text/plain": [
       "0    3\n",
       "1    2\n",
       "2    1\n",
       "3    1\n",
       "4    1\n",
       "Name: LastStage, dtype: int64"
      ]
     },
     "metadata": {},
     "execution_count": 241
    }
   ],
   "metadata": {}
  },
  {
   "cell_type": "code",
   "execution_count": 242,
   "source": [
    "print(x.shape)\r\n",
    "print(y.shape)"
   ],
   "outputs": [
    {
     "output_type": "stream",
     "name": "stdout",
     "text": [
      "(1000, 4)\n",
      "(1000,)\n"
     ]
    }
   ],
   "metadata": {}
  },
  {
   "cell_type": "code",
   "execution_count": 243,
   "source": [
    "df.describe()"
   ],
   "outputs": [
    {
     "output_type": "execute_result",
     "data": {
      "text/html": [
       "<div>\n",
       "<style scoped>\n",
       "    .dataframe tbody tr th:only-of-type {\n",
       "        vertical-align: middle;\n",
       "    }\n",
       "\n",
       "    .dataframe tbody tr th {\n",
       "        vertical-align: top;\n",
       "    }\n",
       "\n",
       "    .dataframe thead th {\n",
       "        text-align: right;\n",
       "    }\n",
       "</style>\n",
       "<table border=\"1\" class=\"dataframe\">\n",
       "  <thead>\n",
       "    <tr style=\"text-align: right;\">\n",
       "      <th></th>\n",
       "      <th>QualLevel</th>\n",
       "      <th>CGPA</th>\n",
       "      <th>CurrentCTC</th>\n",
       "      <th>CurrentExperience</th>\n",
       "      <th>ExpectedCTC</th>\n",
       "      <th>SourceId</th>\n",
       "      <th>LastStage</th>\n",
       "    </tr>\n",
       "  </thead>\n",
       "  <tbody>\n",
       "    <tr>\n",
       "      <th>count</th>\n",
       "      <td>1000.000000</td>\n",
       "      <td>1000.000000</td>\n",
       "      <td>1000.000000</td>\n",
       "      <td>1000.000000</td>\n",
       "      <td>1000.000000</td>\n",
       "      <td>1000.000000</td>\n",
       "      <td>1000.000000</td>\n",
       "    </tr>\n",
       "    <tr>\n",
       "      <th>mean</th>\n",
       "      <td>3.627000</td>\n",
       "      <td>6.217100</td>\n",
       "      <td>5.717720</td>\n",
       "      <td>4.869180</td>\n",
       "      <td>9.576200</td>\n",
       "      <td>2.755000</td>\n",
       "      <td>1.602000</td>\n",
       "    </tr>\n",
       "    <tr>\n",
       "      <th>std</th>\n",
       "      <td>1.165001</td>\n",
       "      <td>1.171285</td>\n",
       "      <td>4.049182</td>\n",
       "      <td>2.839447</td>\n",
       "      <td>9.474844</td>\n",
       "      <td>1.371443</td>\n",
       "      <td>0.622884</td>\n",
       "    </tr>\n",
       "    <tr>\n",
       "      <th>min</th>\n",
       "      <td>1.000000</td>\n",
       "      <td>3.500000</td>\n",
       "      <td>1.210000</td>\n",
       "      <td>0.030000</td>\n",
       "      <td>1.600000</td>\n",
       "      <td>1.000000</td>\n",
       "      <td>1.000000</td>\n",
       "    </tr>\n",
       "    <tr>\n",
       "      <th>25%</th>\n",
       "      <td>3.000000</td>\n",
       "      <td>5.400000</td>\n",
       "      <td>3.280000</td>\n",
       "      <td>2.417500</td>\n",
       "      <td>4.575000</td>\n",
       "      <td>2.000000</td>\n",
       "      <td>1.000000</td>\n",
       "    </tr>\n",
       "    <tr>\n",
       "      <th>50%</th>\n",
       "      <td>4.000000</td>\n",
       "      <td>6.300000</td>\n",
       "      <td>4.485000</td>\n",
       "      <td>4.770000</td>\n",
       "      <td>6.200000</td>\n",
       "      <td>2.000000</td>\n",
       "      <td>2.000000</td>\n",
       "    </tr>\n",
       "    <tr>\n",
       "      <th>75%</th>\n",
       "      <td>5.000000</td>\n",
       "      <td>7.100000</td>\n",
       "      <td>6.480000</td>\n",
       "      <td>7.275000</td>\n",
       "      <td>9.400000</td>\n",
       "      <td>3.000000</td>\n",
       "      <td>2.000000</td>\n",
       "    </tr>\n",
       "    <tr>\n",
       "      <th>max</th>\n",
       "      <td>5.000000</td>\n",
       "      <td>9.000000</td>\n",
       "      <td>27.580000</td>\n",
       "      <td>9.990000</td>\n",
       "      <td>65.100000</td>\n",
       "      <td>6.000000</td>\n",
       "      <td>3.000000</td>\n",
       "    </tr>\n",
       "  </tbody>\n",
       "</table>\n",
       "</div>"
      ],
      "text/plain": [
       "         QualLevel         CGPA   CurrentCTC  CurrentExperience  ExpectedCTC  \\\n",
       "count  1000.000000  1000.000000  1000.000000        1000.000000  1000.000000   \n",
       "mean      3.627000     6.217100     5.717720           4.869180     9.576200   \n",
       "std       1.165001     1.171285     4.049182           2.839447     9.474844   \n",
       "min       1.000000     3.500000     1.210000           0.030000     1.600000   \n",
       "25%       3.000000     5.400000     3.280000           2.417500     4.575000   \n",
       "50%       4.000000     6.300000     4.485000           4.770000     6.200000   \n",
       "75%       5.000000     7.100000     6.480000           7.275000     9.400000   \n",
       "max       5.000000     9.000000    27.580000           9.990000    65.100000   \n",
       "\n",
       "          SourceId    LastStage  \n",
       "count  1000.000000  1000.000000  \n",
       "mean      2.755000     1.602000  \n",
       "std       1.371443     0.622884  \n",
       "min       1.000000     1.000000  \n",
       "25%       2.000000     1.000000  \n",
       "50%       2.000000     2.000000  \n",
       "75%       3.000000     2.000000  \n",
       "max       6.000000     3.000000  "
      ]
     },
     "metadata": {},
     "execution_count": 243
    }
   ],
   "metadata": {}
  },
  {
   "cell_type": "code",
   "execution_count": 244,
   "source": [
    "import matplotlib.pyplot as plt\r\n",
    "import seaborn as sns\r\n",
    "#get correlations of each features in dataset\r\n",
    "corrmat = df.corr()\r\n",
    "top_corr_features = corrmat.index\r\n",
    "plt.figure(figsize=(10,10))\r\n",
    "#plot heat map\r\n",
    "g=sns.heatmap(df[top_corr_features].corr(),annot=True,cmap=\"RdYlGn\")"
   ],
   "outputs": [
    {
     "output_type": "display_data",
     "data": {
      "image/png": "[encoded data removed]",
      "text/plain": [
       "<Figure size 720x720 with 2 Axes>"
      ]
     },
     "metadata": {
      "needs_background": "light"
     }
    }
   ],
   "metadata": {}
  },
  {
   "cell_type": "markdown",
   "source": [
    "## Splitting dataset to train & test data"
   ],
   "metadata": {}
  },
  {
   "cell_type": "code",
   "execution_count": 245,
   "source": [
    "from sklearn.model_selection import train_test_split\r\n",
    "x_train, x_test, y_train, y_test = train_test_split(x,y,test_size=0.2,random_state=10)"
   ],
   "outputs": [],
   "metadata": {}
  },
  {
   "cell_type": "code",
   "execution_count": 246,
   "source": [
    "#Importing Classifiers\r\n",
    "from sklearn.neighbors import KNeighborsClassifier\r\n",
    "from sklearn.tree import DecisionTreeClassifier\r\n",
    "from sklearn.ensemble import RandomForestClassifier\r\n",
    "from sklearn.naive_bayes import GaussianNB\r\n",
    "from sklearn.svm import SVC\r\n",
    "from xgboost import XGBClassifier"
   ],
   "outputs": [],
   "metadata": {}
  },
  {
   "cell_type": "code",
   "execution_count": 247,
   "source": [
    "#Import KFold cross val technique.\r\n",
    "from sklearn.model_selection import KFold\r\n",
    "from sklearn.model_selection import cross_val_score\r\n",
    "k_fold = KFold(n_splits=10, shuffle=True, random_state=0)"
   ],
   "outputs": [],
   "metadata": {}
  },
  {
   "cell_type": "markdown",
   "source": [
    "## Decision Tree Classifier"
   ],
   "metadata": {}
  },
  {
   "cell_type": "code",
   "execution_count": 248,
   "source": [
    "dtc = DecisionTreeClassifier()\r\n",
    "dtc.fit(x_train,y_train)\r\n",
    "scoring = 'accuracy'\r\n",
    "score = cross_val_score(dtc, x_train, y_train, cv=k_fold, n_jobs=1, scoring=scoring)\r\n",
    "print(score)"
   ],
   "outputs": [
    {
     "output_type": "stream",
     "name": "stdout",
     "text": [
      "[0.8375 0.7875 0.7875 0.85   0.775  0.7625 0.8125 0.8    0.75   0.7875]\n"
     ]
    }
   ],
   "metadata": {}
  },
  {
   "cell_type": "code",
   "execution_count": 249,
   "source": [
    "dtc_score=round(np.mean(score)*100, 2)\r\n",
    "dtc_score"
   ],
   "outputs": [
    {
     "output_type": "execute_result",
     "data": {
      "text/plain": [
       "79.5"
      ]
     },
     "metadata": {},
     "execution_count": 249
    }
   ],
   "metadata": {}
  },
  {
   "cell_type": "markdown",
   "source": [
    "## Random Forest Classifier"
   ],
   "metadata": {}
  },
  {
   "cell_type": "code",
   "execution_count": 250,
   "source": [
    "rfc = RandomForestClassifier(n_estimators=30)\r\n",
    "rfc.fit(x_train,y_train)\r\n",
    "scoring = 'accuracy'\r\n",
    "score = cross_val_score(rfc, x_train, y_train, cv=k_fold, n_jobs=1, scoring=scoring)\r\n",
    "print(score)"
   ],
   "outputs": [
    {
     "output_type": "stream",
     "name": "stdout",
     "text": [
      "[0.825  0.8    0.825  0.8375 0.7875 0.8125 0.8125 0.8375 0.8    0.875 ]\n"
     ]
    }
   ],
   "metadata": {}
  },
  {
   "cell_type": "code",
   "execution_count": 251,
   "source": [
    "rfc_score=round(np.mean(score)*100, 2)\r\n",
    "rfc_score"
   ],
   "outputs": [
    {
     "output_type": "execute_result",
     "data": {
      "text/plain": [
       "82.12"
      ]
     },
     "metadata": {},
     "execution_count": 251
    }
   ],
   "metadata": {}
  },
  {
   "cell_type": "markdown",
   "source": [
    "## NaiveBayes Classifier"
   ],
   "metadata": {}
  },
  {
   "cell_type": "code",
   "execution_count": 252,
   "source": [
    "gaussian = GaussianNB()\r\n",
    "gaussian.fit(x_train, y_train)\r\n",
    "guassian_score=round(gaussian.score(x_train, y_train) * 100, 2)\r\n",
    "guassian_score"
   ],
   "outputs": [
    {
     "output_type": "execute_result",
     "data": {
      "text/plain": [
       "83.5"
      ]
     },
     "metadata": {},
     "execution_count": 252
    }
   ],
   "metadata": {}
  },
  {
   "cell_type": "markdown",
   "source": [
    "## Support Vector Machine"
   ],
   "metadata": {}
  },
  {
   "cell_type": "code",
   "execution_count": 253,
   "source": [
    "svc = SVC()\r\n",
    "svc.fit(x_train, y_train)\r\n",
    "svc_score= round(svc.score(x_train, y_train) * 100, 2)\r\n",
    "svc_score"
   ],
   "outputs": [
    {
     "output_type": "execute_result",
     "data": {
      "text/plain": [
       "82.25"
      ]
     },
     "metadata": {},
     "execution_count": 253
    }
   ],
   "metadata": {}
  },
  {
   "cell_type": "markdown",
   "source": [
    "## XGBoost Classifier"
   ],
   "metadata": {}
  },
  {
   "cell_type": "code",
   "execution_count": 254,
   "source": [
    "xgb=XGBClassifier()\r\n",
    "xgb.fit(x_train,y_train)\r\n",
    "xgb_score=round(xgb.score(x_train,y_train)*100,2)\r\n",
    "xgb_score"
   ],
   "outputs": [
    {
     "output_type": "execute_result",
     "data": {
      "text/plain": [
       "100.0"
      ]
     },
     "metadata": {},
     "execution_count": 254
    }
   ],
   "metadata": {}
  },
  {
   "cell_type": "markdown",
   "source": [
    "## Checking which is  the best model to predict"
   ],
   "metadata": {}
  },
  {
   "cell_type": "code",
   "execution_count": 255,
   "source": [
    "models = pd.DataFrame({\r\n",
    "        'Model': ['Support Vector Machine', 'KNN', 'Random Forest', 'Naive Bayes Classifier', 'Decision Tree','XGBoost Classifier'],\r\n",
    "        'Score': [svc_score, knn_score, rfc_score, \r\n",
    "              guassian_score, dtc_score, xgb_score]\r\n",
    "    })\r\n",
    "models.sort_values(by='Score', ascending=False)"
   ],
   "outputs": [
    {
     "output_type": "execute_result",
     "data": {
      "text/html": [
       "<div>\n",
       "<style scoped>\n",
       "    .dataframe tbody tr th:only-of-type {\n",
       "        vertical-align: middle;\n",
       "    }\n",
       "\n",
       "    .dataframe tbody tr th {\n",
       "        vertical-align: top;\n",
       "    }\n",
       "\n",
       "    .dataframe thead th {\n",
       "        text-align: right;\n",
       "    }\n",
       "</style>\n",
       "<table border=\"1\" class=\"dataframe\">\n",
       "  <thead>\n",
       "    <tr style=\"text-align: right;\">\n",
       "      <th></th>\n",
       "      <th>Model</th>\n",
       "      <th>Score</th>\n",
       "    </tr>\n",
       "  </thead>\n",
       "  <tbody>\n",
       "    <tr>\n",
       "      <th>5</th>\n",
       "      <td>XGBoost Classifier</td>\n",
       "      <td>100.00</td>\n",
       "    </tr>\n",
       "    <tr>\n",
       "      <th>3</th>\n",
       "      <td>Naive Bayes Classifier</td>\n",
       "      <td>83.50</td>\n",
       "    </tr>\n",
       "    <tr>\n",
       "      <th>0</th>\n",
       "      <td>Support Vector Machine</td>\n",
       "      <td>82.25</td>\n",
       "    </tr>\n",
       "    <tr>\n",
       "      <th>2</th>\n",
       "      <td>Random Forest</td>\n",
       "      <td>82.12</td>\n",
       "    </tr>\n",
       "    <tr>\n",
       "      <th>4</th>\n",
       "      <td>Decision Tree</td>\n",
       "      <td>79.50</td>\n",
       "    </tr>\n",
       "    <tr>\n",
       "      <th>1</th>\n",
       "      <td>KNN</td>\n",
       "      <td>75.88</td>\n",
       "    </tr>\n",
       "  </tbody>\n",
       "</table>\n",
       "</div>"
      ],
      "text/plain": [
       "                    Model   Score\n",
       "5      XGBoost Classifier  100.00\n",
       "3  Naive Bayes Classifier   83.50\n",
       "0  Support Vector Machine   82.25\n",
       "2           Random Forest   82.12\n",
       "4           Decision Tree   79.50\n",
       "1                     KNN   75.88"
      ]
     },
     "metadata": {},
     "execution_count": 255
    }
   ],
   "metadata": {}
  },
  {
   "cell_type": "markdown",
   "source": [
    "XGBoost Classifier gives the best result, now doing hyperparameter on it"
   ],
   "metadata": {}
  },
  {
   "cell_type": "code",
   "execution_count": 256,
   "source": [
    "## Hyper Parameter Optimization\r\n",
    "\r\n",
    "params={\r\n",
    " \"learning_rate\"    : [0.05, 0.10, 0.15, 0.20, 0.25, 0.30 ] ,\r\n",
    " \"max_depth\"        : [ 3, 4, 5, 6, 8, 10, 12, 15],\r\n",
    " \"min_child_weight\" : [ 1, 3, 5, 7 ],\r\n",
    " \"gamma\"            : [ 0.0, 0.1, 0.2 , 0.3, 0.4 ],\r\n",
    " \"colsample_bytree\" : [ 0.3, 0.4, 0.5 , 0.7]\r\n",
    "}\r\n",
    "\r\n",
    "from sklearn.model_selection import RandomizedSearchCV, GridSearchCV\r\n",
    "\r\n",
    "random_search=RandomizedSearchCV(xgb,param_distributions=params,n_iter=10,n_jobs=1,cv=5,verbose=3)"
   ],
   "outputs": [],
   "metadata": {}
  },
  {
   "cell_type": "code",
   "execution_count": 257,
   "source": [
    "random_search.fit(x,y)"
   ],
   "outputs": [
    {
     "output_type": "stream",
     "name": "stdout",
     "text": [
      "Fitting 5 folds for each of 10 candidates, totalling 50 fits\n",
      "[CV] min_child_weight=5, max_depth=6, learning_rate=0.3, gamma=0.3, colsample_bytree=0.5 \n",
      "[CV]  min_child_weight=5, max_depth=6, learning_rate=0.3, gamma=0.3, colsample_bytree=0.5, score=0.830, total=   0.1s\n",
      "[CV] min_child_weight=5, max_depth=6, learning_rate=0.3, gamma=0.3, colsample_bytree=0.5 \n",
      "[CV]  min_child_weight=5, max_depth=6, learning_rate=0.3, gamma=0.3, colsample_bytree=0.5, score=0.845, total=   0.1s\n"
     ]
    },
    {
     "output_type": "stream",
     "name": "stderr",
     "text": [
      "[Parallel(n_jobs=1)]: Using backend SequentialBackend with 1 concurrent workers.\n",
      "[Parallel(n_jobs=1)]: Done   1 out of   1 | elapsed:    0.0s remaining:    0.0s\n",
      "[Parallel(n_jobs=1)]: Done   2 out of   2 | elapsed:    0.1s remaining:    0.0s\n"
     ]
    },
    {
     "output_type": "stream",
     "name": "stdout",
     "text": [
      "[CV] min_child_weight=5, max_depth=6, learning_rate=0.3, gamma=0.3, colsample_bytree=0.5 \n",
      "[CV]  min_child_weight=5, max_depth=6, learning_rate=0.3, gamma=0.3, colsample_bytree=0.5, score=0.805, total=   0.1s\n",
      "[CV] min_child_weight=5, max_depth=6, learning_rate=0.3, gamma=0.3, colsample_bytree=0.5 \n",
      "[CV]  min_child_weight=5, max_depth=6, learning_rate=0.3, gamma=0.3, colsample_bytree=0.5, score=0.815, total=   0.1s\n",
      "[CV] min_child_weight=5, max_depth=6, learning_rate=0.3, gamma=0.3, colsample_bytree=0.5 \n",
      "[CV]  min_child_weight=5, max_depth=6, learning_rate=0.3, gamma=0.3, colsample_bytree=0.5, score=0.825, total=   0.1s\n",
      "[CV] min_child_weight=7, max_depth=8, learning_rate=0.15, gamma=0.0, colsample_bytree=0.3 \n",
      "[CV]  min_child_weight=7, max_depth=8, learning_rate=0.15, gamma=0.0, colsample_bytree=0.3, score=0.850, total=   0.1s\n",
      "[CV] min_child_weight=7, max_depth=8, learning_rate=0.15, gamma=0.0, colsample_bytree=0.3 \n",
      "[CV]  min_child_weight=7, max_depth=8, learning_rate=0.15, gamma=0.0, colsample_bytree=0.3, score=0.845, total=   0.1s\n",
      "[CV] min_child_weight=7, max_depth=8, learning_rate=0.15, gamma=0.0, colsample_bytree=0.3 \n",
      "[CV]  min_child_weight=7, max_depth=8, learning_rate=0.15, gamma=0.0, colsample_bytree=0.3, score=0.790, total=   0.1s\n",
      "[CV] min_child_weight=7, max_depth=8, learning_rate=0.15, gamma=0.0, colsample_bytree=0.3 \n",
      "[CV]  min_child_weight=7, max_depth=8, learning_rate=0.15, gamma=0.0, colsample_bytree=0.3, score=0.845, total=   0.1s\n",
      "[CV] min_child_weight=7, max_depth=8, learning_rate=0.15, gamma=0.0, colsample_bytree=0.3 \n",
      "[CV]  min_child_weight=7, max_depth=8, learning_rate=0.15, gamma=0.0, colsample_bytree=0.3, score=0.830, total=   0.1s\n",
      "[CV] min_child_weight=1, max_depth=4, learning_rate=0.05, gamma=0.3, colsample_bytree=0.3 \n",
      "[CV]  min_child_weight=1, max_depth=4, learning_rate=0.05, gamma=0.3, colsample_bytree=0.3, score=0.865, total=   0.1s\n",
      "[CV] min_child_weight=1, max_depth=4, learning_rate=0.05, gamma=0.3, colsample_bytree=0.3 \n",
      "[CV]  min_child_weight=1, max_depth=4, learning_rate=0.05, gamma=0.3, colsample_bytree=0.3, score=0.860, total=   0.1s\n",
      "[CV] min_child_weight=1, max_depth=4, learning_rate=0.05, gamma=0.3, colsample_bytree=0.3 \n",
      "[CV]  min_child_weight=1, max_depth=4, learning_rate=0.05, gamma=0.3, colsample_bytree=0.3, score=0.780, total=   0.1s\n",
      "[CV] min_child_weight=1, max_depth=4, learning_rate=0.05, gamma=0.3, colsample_bytree=0.3 \n",
      "[CV]  min_child_weight=1, max_depth=4, learning_rate=0.05, gamma=0.3, colsample_bytree=0.3, score=0.820, total=   0.1s\n",
      "[CV] min_child_weight=1, max_depth=4, learning_rate=0.05, gamma=0.3, colsample_bytree=0.3 \n",
      "[CV]  min_child_weight=1, max_depth=4, learning_rate=0.05, gamma=0.3, colsample_bytree=0.3, score=0.830, total=   0.1s\n",
      "[CV] min_child_weight=3, max_depth=6, learning_rate=0.2, gamma=0.0, colsample_bytree=0.4 \n",
      "[CV]  min_child_weight=3, max_depth=6, learning_rate=0.2, gamma=0.0, colsample_bytree=0.4, score=0.840, total=   0.1s\n",
      "[CV] min_child_weight=3, max_depth=6, learning_rate=0.2, gamma=0.0, colsample_bytree=0.4 \n",
      "[CV]  min_child_weight=3, max_depth=6, learning_rate=0.2, gamma=0.0, colsample_bytree=0.4, score=0.835, total=   0.1s\n",
      "[CV] min_child_weight=3, max_depth=6, learning_rate=0.2, gamma=0.0, colsample_bytree=0.4 \n",
      "[CV]  min_child_weight=3, max_depth=6, learning_rate=0.2, gamma=0.0, colsample_bytree=0.4, score=0.795, total=   0.1s\n",
      "[CV] min_child_weight=3, max_depth=6, learning_rate=0.2, gamma=0.0, colsample_bytree=0.4 \n",
      "[CV]  min_child_weight=3, max_depth=6, learning_rate=0.2, gamma=0.0, colsample_bytree=0.4, score=0.835, total=   0.1s\n",
      "[CV] min_child_weight=3, max_depth=6, learning_rate=0.2, gamma=0.0, colsample_bytree=0.4 \n",
      "[CV]  min_child_weight=3, max_depth=6, learning_rate=0.2, gamma=0.0, colsample_bytree=0.4, score=0.800, total=   0.1s\n",
      "[CV] min_child_weight=7, max_depth=3, learning_rate=0.15, gamma=0.1, colsample_bytree=0.5 \n",
      "[CV]  min_child_weight=7, max_depth=3, learning_rate=0.15, gamma=0.1, colsample_bytree=0.5, score=0.840, total=   0.1s\n",
      "[CV] min_child_weight=7, max_depth=3, learning_rate=0.15, gamma=0.1, colsample_bytree=0.5 \n",
      "[CV]  min_child_weight=7, max_depth=3, learning_rate=0.15, gamma=0.1, colsample_bytree=0.5, score=0.840, total=   0.1s\n",
      "[CV] min_child_weight=7, max_depth=3, learning_rate=0.15, gamma=0.1, colsample_bytree=0.5 \n",
      "[CV]  min_child_weight=7, max_depth=3, learning_rate=0.15, gamma=0.1, colsample_bytree=0.5, score=0.790, total=   0.1s\n",
      "[CV] min_child_weight=7, max_depth=3, learning_rate=0.15, gamma=0.1, colsample_bytree=0.5 \n",
      "[CV]  min_child_weight=7, max_depth=3, learning_rate=0.15, gamma=0.1, colsample_bytree=0.5, score=0.835, total=   0.1s\n",
      "[CV] min_child_weight=7, max_depth=3, learning_rate=0.15, gamma=0.1, colsample_bytree=0.5 \n",
      "[CV]  min_child_weight=7, max_depth=3, learning_rate=0.15, gamma=0.1, colsample_bytree=0.5, score=0.830, total=   0.1s\n",
      "[CV] min_child_weight=5, max_depth=15, learning_rate=0.25, gamma=0.2, colsample_bytree=0.4 \n",
      "[CV]  min_child_weight=5, max_depth=15, learning_rate=0.25, gamma=0.2, colsample_bytree=0.4, score=0.870, total=   0.1s\n",
      "[CV] min_child_weight=5, max_depth=15, learning_rate=0.25, gamma=0.2, colsample_bytree=0.4 \n",
      "[CV]  min_child_weight=5, max_depth=15, learning_rate=0.25, gamma=0.2, colsample_bytree=0.4, score=0.860, total=   0.1s\n",
      "[CV] min_child_weight=5, max_depth=15, learning_rate=0.25, gamma=0.2, colsample_bytree=0.4 \n",
      "[CV]  min_child_weight=5, max_depth=15, learning_rate=0.25, gamma=0.2, colsample_bytree=0.4, score=0.800, total=   0.1s\n",
      "[CV] min_child_weight=5, max_depth=15, learning_rate=0.25, gamma=0.2, colsample_bytree=0.4 \n",
      "[CV]  min_child_weight=5, max_depth=15, learning_rate=0.25, gamma=0.2, colsample_bytree=0.4, score=0.825, total=   0.1s\n",
      "[CV] min_child_weight=5, max_depth=15, learning_rate=0.25, gamma=0.2, colsample_bytree=0.4 \n",
      "[CV]  min_child_weight=5, max_depth=15, learning_rate=0.25, gamma=0.2, colsample_bytree=0.4, score=0.805, total=   0.1s\n",
      "[CV] min_child_weight=3, max_depth=10, learning_rate=0.15, gamma=0.3, colsample_bytree=0.3 \n",
      "[CV]  min_child_weight=3, max_depth=10, learning_rate=0.15, gamma=0.3, colsample_bytree=0.3, score=0.860, total=   0.1s\n",
      "[CV] min_child_weight=3, max_depth=10, learning_rate=0.15, gamma=0.3, colsample_bytree=0.3 \n",
      "[CV]  min_child_weight=3, max_depth=10, learning_rate=0.15, gamma=0.3, colsample_bytree=0.3, score=0.835, total=   0.1s\n",
      "[CV] min_child_weight=3, max_depth=10, learning_rate=0.15, gamma=0.3, colsample_bytree=0.3 \n",
      "[CV]  min_child_weight=3, max_depth=10, learning_rate=0.15, gamma=0.3, colsample_bytree=0.3, score=0.810, total=   0.1s\n",
      "[CV] min_child_weight=3, max_depth=10, learning_rate=0.15, gamma=0.3, colsample_bytree=0.3 \n",
      "[CV]  min_child_weight=3, max_depth=10, learning_rate=0.15, gamma=0.3, colsample_bytree=0.3, score=0.830, total=   0.1s\n",
      "[CV] min_child_weight=3, max_depth=10, learning_rate=0.15, gamma=0.3, colsample_bytree=0.3 \n",
      "[CV]  min_child_weight=3, max_depth=10, learning_rate=0.15, gamma=0.3, colsample_bytree=0.3, score=0.805, total=   0.1s\n",
      "[CV] min_child_weight=7, max_depth=8, learning_rate=0.2, gamma=0.1, colsample_bytree=0.5 \n",
      "[CV]  min_child_weight=7, max_depth=8, learning_rate=0.2, gamma=0.1, colsample_bytree=0.5, score=0.855, total=   0.1s\n",
      "[CV] min_child_weight=7, max_depth=8, learning_rate=0.2, gamma=0.1, colsample_bytree=0.5 \n",
      "[CV]  min_child_weight=7, max_depth=8, learning_rate=0.2, gamma=0.1, colsample_bytree=0.5, score=0.845, total=   0.1s\n",
      "[CV] min_child_weight=7, max_depth=8, learning_rate=0.2, gamma=0.1, colsample_bytree=0.5 \n",
      "[CV]  min_child_weight=7, max_depth=8, learning_rate=0.2, gamma=0.1, colsample_bytree=0.5, score=0.805, total=   0.1s\n",
      "[CV] min_child_weight=7, max_depth=8, learning_rate=0.2, gamma=0.1, colsample_bytree=0.5 \n",
      "[CV]  min_child_weight=7, max_depth=8, learning_rate=0.2, gamma=0.1, colsample_bytree=0.5, score=0.855, total=   0.1s\n",
      "[CV] min_child_weight=7, max_depth=8, learning_rate=0.2, gamma=0.1, colsample_bytree=0.5 \n",
      "[CV]  min_child_weight=7, max_depth=8, learning_rate=0.2, gamma=0.1, colsample_bytree=0.5, score=0.825, total=   0.1s\n",
      "[CV] min_child_weight=5, max_depth=15, learning_rate=0.25, gamma=0.0, colsample_bytree=0.7 \n",
      "[CV]  min_child_weight=5, max_depth=15, learning_rate=0.25, gamma=0.0, colsample_bytree=0.7, score=0.840, total=   0.1s\n",
      "[CV] min_child_weight=5, max_depth=15, learning_rate=0.25, gamma=0.0, colsample_bytree=0.7 \n",
      "[CV]  min_child_weight=5, max_depth=15, learning_rate=0.25, gamma=0.0, colsample_bytree=0.7, score=0.840, total=   0.1s\n",
      "[CV] min_child_weight=5, max_depth=15, learning_rate=0.25, gamma=0.0, colsample_bytree=0.7 \n",
      "[CV]  min_child_weight=5, max_depth=15, learning_rate=0.25, gamma=0.0, colsample_bytree=0.7, score=0.805, total=   0.1s\n",
      "[CV] min_child_weight=5, max_depth=15, learning_rate=0.25, gamma=0.0, colsample_bytree=0.7 \n",
      "[CV]  min_child_weight=5, max_depth=15, learning_rate=0.25, gamma=0.0, colsample_bytree=0.7, score=0.840, total=   0.1s\n",
      "[CV] min_child_weight=5, max_depth=15, learning_rate=0.25, gamma=0.0, colsample_bytree=0.7 \n",
      "[CV]  min_child_weight=5, max_depth=15, learning_rate=0.25, gamma=0.0, colsample_bytree=0.7, score=0.800, total=   0.1s\n",
      "[CV] min_child_weight=7, max_depth=15, learning_rate=0.1, gamma=0.1, colsample_bytree=0.3 \n",
      "[CV]  min_child_weight=7, max_depth=15, learning_rate=0.1, gamma=0.1, colsample_bytree=0.3, score=0.860, total=   0.1s\n",
      "[CV] min_child_weight=7, max_depth=15, learning_rate=0.1, gamma=0.1, colsample_bytree=0.3 \n",
      "[CV]  min_child_weight=7, max_depth=15, learning_rate=0.1, gamma=0.1, colsample_bytree=0.3, score=0.850, total=   0.1s\n",
      "[CV] min_child_weight=7, max_depth=15, learning_rate=0.1, gamma=0.1, colsample_bytree=0.3 \n",
      "[CV]  min_child_weight=7, max_depth=15, learning_rate=0.1, gamma=0.1, colsample_bytree=0.3, score=0.800, total=   0.1s\n",
      "[CV] min_child_weight=7, max_depth=15, learning_rate=0.1, gamma=0.1, colsample_bytree=0.3 \n",
      "[CV]  min_child_weight=7, max_depth=15, learning_rate=0.1, gamma=0.1, colsample_bytree=0.3, score=0.825, total=   0.1s\n",
      "[CV] min_child_weight=7, max_depth=15, learning_rate=0.1, gamma=0.1, colsample_bytree=0.3 \n",
      "[CV]  min_child_weight=7, max_depth=15, learning_rate=0.1, gamma=0.1, colsample_bytree=0.3, score=0.820, total=   0.1s\n"
     ]
    },
    {
     "output_type": "stream",
     "name": "stderr",
     "text": [
      "[Parallel(n_jobs=1)]: Done  50 out of  50 | elapsed:    4.1s finished\n"
     ]
    },
    {
     "output_type": "execute_result",
     "data": {
      "text/plain": [
       "RandomizedSearchCV(cv=5,\n",
       "                   estimator=XGBClassifier(base_score=0.5, booster='gbtree',\n",
       "                                           colsample_bylevel=1,\n",
       "                                           colsample_bynode=1,\n",
       "                                           colsample_bytree=1, gamma=0,\n",
       "                                           gpu_id=-1, importance_type='gain',\n",
       "                                           interaction_constraints='',\n",
       "                                           learning_rate=0.300000012,\n",
       "                                           max_delta_step=0, max_depth=6,\n",
       "                                           min_child_weight=1, missing=nan,\n",
       "                                           monotone_constraints='()',\n",
       "                                           n_estimators=100, n_jobs=0,\n",
       "                                           num_pa...\n",
       "                                           objective='multi:softprob',\n",
       "                                           random_state=0, reg_alpha=0,\n",
       "                                           reg_lambda=1, scale_pos_weight=None,\n",
       "                                           subsample=1, tree_method='exact',\n",
       "                                           validate_parameters=1,\n",
       "                                           verbosity=None),\n",
       "                   n_jobs=1,\n",
       "                   param_distributions={'colsample_bytree': [0.3, 0.4, 0.5,\n",
       "                                                             0.7],\n",
       "                                        'gamma': [0.0, 0.1, 0.2, 0.3, 0.4],\n",
       "                                        'learning_rate': [0.05, 0.1, 0.15, 0.2,\n",
       "                                                          0.25, 0.3],\n",
       "                                        'max_depth': [3, 4, 5, 6, 8, 10, 12,\n",
       "                                                      15],\n",
       "                                        'min_child_weight': [1, 3, 5, 7]},\n",
       "                   verbose=3)"
      ]
     },
     "metadata": {},
     "execution_count": 257
    }
   ],
   "metadata": {}
  },
  {
   "cell_type": "code",
   "execution_count": 258,
   "source": [
    "random_search.best_estimator_"
   ],
   "outputs": [
    {
     "output_type": "execute_result",
     "data": {
      "text/plain": [
       "XGBClassifier(base_score=0.5, booster='gbtree', colsample_bylevel=1,\n",
       "              colsample_bynode=1, colsample_bytree=0.5, gamma=0.1, gpu_id=-1,\n",
       "              importance_type='gain', interaction_constraints='',\n",
       "              learning_rate=0.2, max_delta_step=0, max_depth=8,\n",
       "              min_child_weight=7, missing=nan, monotone_constraints='()',\n",
       "              n_estimators=100, n_jobs=0, num_parallel_tree=1,\n",
       "              objective='multi:softprob', random_state=0, reg_alpha=0,\n",
       "              reg_lambda=1, scale_pos_weight=None, subsample=1,\n",
       "              tree_method='exact', validate_parameters=1, verbosity=None)"
      ]
     },
     "metadata": {},
     "execution_count": 258
    }
   ],
   "metadata": {}
  },
  {
   "cell_type": "code",
   "execution_count": 259,
   "source": [
    "random_search.best_params_"
   ],
   "outputs": [
    {
     "output_type": "execute_result",
     "data": {
      "text/plain": [
       "{'min_child_weight': 7,\n",
       " 'max_depth': 8,\n",
       " 'learning_rate': 0.2,\n",
       " 'gamma': 0.1,\n",
       " 'colsample_bytree': 0.5}"
      ]
     },
     "metadata": {},
     "execution_count": 259
    }
   ],
   "metadata": {}
  },
  {
   "cell_type": "code",
   "execution_count": 260,
   "source": [
    "classifier= XGBClassifier(base_score=0.5, booster='gbtree', colsample_bylevel=1,\r\n",
    "              colsample_bynode=1, colsample_bytree=0.7, gamma=0.3, gpu_id=-1,\r\n",
    "              importance_type='gain', interaction_constraints='',\r\n",
    "              learning_rate=0.2, max_delta_step=0, max_depth=4,\r\n",
    "              min_child_weight=7, monotone_constraints='()',\r\n",
    "              n_estimators=100, n_jobs=0, num_parallel_tree=1,\r\n",
    "              objective='multi:softprob', random_state=0, reg_alpha=0,\r\n",
    "              reg_lambda=1, scale_pos_weight=None, subsample=1,\r\n",
    "              tree_method='exact', validate_parameters=1, verbosity=None)"
   ],
   "outputs": [],
   "metadata": {}
  },
  {
   "cell_type": "code",
   "execution_count": 261,
   "source": [
    "x_test.head(10)"
   ],
   "outputs": [
    {
     "output_type": "execute_result",
     "data": {
      "text/html": [
       "<div>\n",
       "<style scoped>\n",
       "    .dataframe tbody tr th:only-of-type {\n",
       "        vertical-align: middle;\n",
       "    }\n",
       "\n",
       "    .dataframe tbody tr th {\n",
       "        vertical-align: top;\n",
       "    }\n",
       "\n",
       "    .dataframe thead th {\n",
       "        text-align: right;\n",
       "    }\n",
       "</style>\n",
       "<table border=\"1\" class=\"dataframe\">\n",
       "  <thead>\n",
       "    <tr style=\"text-align: right;\">\n",
       "      <th></th>\n",
       "      <th>QualLevel</th>\n",
       "      <th>CGPA</th>\n",
       "      <th>CurrentExperience</th>\n",
       "      <th>SourceId</th>\n",
       "    </tr>\n",
       "  </thead>\n",
       "  <tbody>\n",
       "    <tr>\n",
       "      <th>841</th>\n",
       "      <td>4</td>\n",
       "      <td>8.8</td>\n",
       "      <td>5.27</td>\n",
       "      <td>3</td>\n",
       "    </tr>\n",
       "    <tr>\n",
       "      <th>956</th>\n",
       "      <td>2</td>\n",
       "      <td>5.3</td>\n",
       "      <td>2.90</td>\n",
       "      <td>2</td>\n",
       "    </tr>\n",
       "    <tr>\n",
       "      <th>544</th>\n",
       "      <td>4</td>\n",
       "      <td>7.9</td>\n",
       "      <td>8.78</td>\n",
       "      <td>2</td>\n",
       "    </tr>\n",
       "    <tr>\n",
       "      <th>173</th>\n",
       "      <td>3</td>\n",
       "      <td>4.3</td>\n",
       "      <td>0.78</td>\n",
       "      <td>3</td>\n",
       "    </tr>\n",
       "    <tr>\n",
       "      <th>759</th>\n",
       "      <td>3</td>\n",
       "      <td>5.7</td>\n",
       "      <td>8.19</td>\n",
       "      <td>3</td>\n",
       "    </tr>\n",
       "    <tr>\n",
       "      <th>955</th>\n",
       "      <td>5</td>\n",
       "      <td>4.9</td>\n",
       "      <td>3.87</td>\n",
       "      <td>3</td>\n",
       "    </tr>\n",
       "    <tr>\n",
       "      <th>121</th>\n",
       "      <td>5</td>\n",
       "      <td>7.6</td>\n",
       "      <td>6.07</td>\n",
       "      <td>2</td>\n",
       "    </tr>\n",
       "    <tr>\n",
       "      <th>230</th>\n",
       "      <td>5</td>\n",
       "      <td>5.7</td>\n",
       "      <td>8.66</td>\n",
       "      <td>2</td>\n",
       "    </tr>\n",
       "    <tr>\n",
       "      <th>11</th>\n",
       "      <td>4</td>\n",
       "      <td>8.0</td>\n",
       "      <td>3.92</td>\n",
       "      <td>2</td>\n",
       "    </tr>\n",
       "    <tr>\n",
       "      <th>120</th>\n",
       "      <td>4</td>\n",
       "      <td>5.5</td>\n",
       "      <td>7.77</td>\n",
       "      <td>2</td>\n",
       "    </tr>\n",
       "  </tbody>\n",
       "</table>\n",
       "</div>"
      ],
      "text/plain": [
       "     QualLevel  CGPA  CurrentExperience  SourceId\n",
       "841          4   8.8               5.27         3\n",
       "956          2   5.3               2.90         2\n",
       "544          4   7.9               8.78         2\n",
       "173          3   4.3               0.78         3\n",
       "759          3   5.7               8.19         3\n",
       "955          5   4.9               3.87         3\n",
       "121          5   7.6               6.07         2\n",
       "230          5   5.7               8.66         2\n",
       "11           4   8.0               3.92         2\n",
       "120          4   5.5               7.77         2"
      ]
     },
     "metadata": {},
     "execution_count": 261
    }
   ],
   "metadata": {}
  },
  {
   "cell_type": "code",
   "execution_count": 262,
   "source": [
    "classifier.fit(x_train,y_train)"
   ],
   "outputs": [
    {
     "output_type": "execute_result",
     "data": {
      "text/plain": [
       "XGBClassifier(base_score=0.5, booster='gbtree', colsample_bylevel=1,\n",
       "              colsample_bynode=1, colsample_bytree=0.7, gamma=0.3, gpu_id=-1,\n",
       "              importance_type='gain', interaction_constraints='',\n",
       "              learning_rate=0.2, max_delta_step=0, max_depth=4,\n",
       "              min_child_weight=7, missing=nan, monotone_constraints='()',\n",
       "              n_estimators=100, n_jobs=0, num_parallel_tree=1,\n",
       "              objective='multi:softprob', random_state=0, reg_alpha=0,\n",
       "              reg_lambda=1, scale_pos_weight=None, subsample=1,\n",
       "              tree_method='exact', validate_parameters=1, verbosity=None)"
      ]
     },
     "metadata": {},
     "execution_count": 262
    }
   ],
   "metadata": {}
  },
  {
   "cell_type": "markdown",
   "source": [
    "## Now, finally its time to predict the data."
   ],
   "metadata": {}
  },
  {
   "cell_type": "code",
   "execution_count": 265,
   "source": [
    "#Predicting on input data as: QualLevel=5 i.e MS/MTech, CGPA=9, CurrentExperience=3, SourceId=6 Referral.\r\n",
    "t = 5\r\n",
    "r = 9\r\n",
    "f = 3\r\n",
    "g = 6\r\n",
    "d = {'QualLevel': [t], 'CGPA': [r],'CurrentExperience': [f], 'SourceId': [g]}\r\n",
    "de = pd.DataFrame(data=d)\r\n",
    "print(classifier.predict(de))"
   ],
   "outputs": [
    {
     "output_type": "stream",
     "name": "stdout",
     "text": [
      "[3]\n"
     ]
    }
   ],
   "metadata": {}
  },
  {
   "cell_type": "markdown",
   "source": [
    "#### Gives output as 3 i.e Stage  7 & 8 !!!!!"
   ],
   "metadata": {}
  },
  {
   "cell_type": "code",
   "execution_count": 266,
   "source": [
    "import pickle\r\n",
    "# open a file, where you ant to store the data\r\n",
    "file = open('xgboostmo.pkl', 'wb')\r\n",
    "\r\n",
    "# dump information to that file\r\n",
    "pickle.dump(classifier, file)"
   ],
   "outputs": [],
   "metadata": {}
  },
  {
   "cell_type": "code",
   "execution_count": 267,
   "source": [
    "classifier"
   ],
   "outputs": [
    {
     "output_type": "execute_result",
     "data": {
      "text/plain": [
       "XGBClassifier(base_score=0.5, booster='gbtree', colsample_bylevel=1,\n",
       "              colsample_bynode=1, colsample_bytree=0.7, gamma=0.3, gpu_id=-1,\n",
       "              importance_type='gain', interaction_constraints='',\n",
       "              learning_rate=0.2, max_delta_step=0, max_depth=4,\n",
       "              min_child_weight=7, missing=nan, monotone_constraints='()',\n",
       "              n_estimators=100, n_jobs=0, num_parallel_tree=1,\n",
       "              objective='multi:softprob', random_state=0, reg_alpha=0,\n",
       "              reg_lambda=1, scale_pos_weight=None, subsample=1,\n",
       "              tree_method='exact', validate_parameters=1, verbosity=None)"
      ]
     },
     "metadata": {},
     "execution_count": 267
    }
   ],
   "metadata": {}
  },
  {
   "cell_type": "code",
   "execution_count": 268,
   "source": [
    "rfc"
   ],
   "outputs": [
    {
     "output_type": "execute_result",
     "data": {
      "text/plain": [
       "RandomForestClassifier(n_estimators=30)"
      ]
     },
     "metadata": {},
     "execution_count": 268
    }
   ],
   "metadata": {}
  }
 ],
 "metadata": {
  "kernelspec": {
   "name": "python3",
   "display_name": "Python 3.7.4 64-bit (system)"
  },
  "language_info": {
   "codemirror_mode": {
    "name": "ipython",
    "version": 3
   },
   "file_extension": ".py",
   "mimetype": "text/x-python",
   "name": "python",
   "nbconvert_exporter": "python",
   "pygments_lexer": "ipython3",
   "version": "3.7.4"
  },
  "interpreter": {
   "hash": "79dda8d0f1e4b50032f0a11dadfc8f82d3b45fc2ce8df01535accf2b27d801bd"
  }
 },
 "nbformat": 4,
 "nbformat_minor": 4
}